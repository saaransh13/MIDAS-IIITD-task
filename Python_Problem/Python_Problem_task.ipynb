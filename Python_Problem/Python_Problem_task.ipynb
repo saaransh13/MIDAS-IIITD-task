{
  "nbformat": 4,
  "nbformat_minor": 0,
  "metadata": {
    "colab": {
      "name": "Python_Problem_task.ipynb",
      "version": "0.3.2",
      "provenance": [],
      "collapsed_sections": [],
      "include_colab_link": true
    },
    "kernelspec": {
      "name": "python3",
      "display_name": "Python 3"
    }
  },
  "cells": [
    {
      "cell_type": "markdown",
      "metadata": {
        "id": "view-in-github",
        "colab_type": "text"
      },
      "source": [
        "<a href=\"https://colab.research.google.com/github/saaransh13/MIDAS-IIITD-task/blob/master/Python_Problem/Python_Problem_task.ipynb\" target=\"_parent\"><img src=\"https://colab.research.google.com/assets/colab-badge.svg\" alt=\"Open In Colab\"/></a>"
      ]
    },
    {
      "metadata": {
        "id": "hDILeTluqHwy",
        "colab_type": "code",
        "colab": {
          "base_uri": "https://localhost:8080/",
          "height": 34
        },
        "outputId": "73d082cd-10e5-4877-840b-fbe08b6a393a"
      },
      "cell_type": "code",
      "source": [
        "import tweepy\n",
        "import numpy as np\n",
        "import pandas as pd\n",
        "import jsonlines\n",
        "from google.colab import drive\n",
        "drive.mount('/content/drive')"
      ],
      "execution_count": 8,
      "outputs": [
        {
          "output_type": "stream",
          "text": [
            "Drive already mounted at /content/drive; to attempt to forcibly remount, call drive.mount(\"/content/drive\", force_remount=True).\n"
          ],
          "name": "stdout"
        }
      ]
    },
    {
      "metadata": {
        "id": "d5w2_jmgqTge",
        "colab_type": "code",
        "colab": {
          "base_uri": "https://localhost:8080/",
          "height": 105
        },
        "outputId": "11a1477e-f939-46ef-f369-6f83832c9185"
      },
      "cell_type": "code",
      "source": [
        "!pip install jsonlines\n"
      ],
      "execution_count": 2,
      "outputs": [
        {
          "output_type": "stream",
          "text": [
            "Collecting jsonlines\n",
            "  Downloading https://files.pythonhosted.org/packages/4f/9a/ab96291470e305504aa4b7a2e0ec132e930da89eb3ca7a82fbe03167c131/jsonlines-1.2.0-py2.py3-none-any.whl\n",
            "Requirement already satisfied: six in /usr/local/lib/python3.6/dist-packages (from jsonlines) (1.11.0)\n",
            "Installing collected packages: jsonlines\n",
            "Successfully installed jsonlines-1.2.0\n"
          ],
          "name": "stdout"
        }
      ]
    },
    {
      "metadata": {
        "id": "t4AtxDgDqeRO",
        "colab_type": "code",
        "colab": {}
      },
      "cell_type": "code",
      "source": [
        "## Values to be provided by the user\n",
        "\n",
        "consumer_key = \"\" \n",
        "consumer_secret = \"\"\n",
        "access_key = \"\"\n",
        "access_secret = \"\""
      ],
      "execution_count": 0,
      "outputs": []
    },
    {
      "metadata": {
        "id": "EjOrO2Lvqtg6",
        "colab_type": "code",
        "colab": {}
      },
      "cell_type": "code",
      "source": [
        "## Authorization for Twitter API\n",
        "\n",
        "auth = tweepy.OAuthHandler(consumer_key, consumer_secret)\n",
        "auth.set_access_token(access_key, access_secret)\n",
        "api = tweepy.API(auth)\n",
        "\n"
      ],
      "execution_count": 0,
      "outputs": []
    },
    {
      "metadata": {
        "id": "rICjZMBosasg",
        "colab_type": "code",
        "colab": {}
      },
      "cell_type": "code",
      "source": [
        "## Using tweepy wrapper to collect the response from Twitter API\n",
        "\n",
        "tweets = tweepy.Cursor(api.user_timeline, screen_name='midasIIITD')\n",
        "#tweets = api.user_timeline(screen_name='midasIIITD')\n",
        "\n"
      ],
      "execution_count": 0,
      "outputs": []
    },
    {
      "metadata": {
        "id": "kfEEFS5ysgT6",
        "colab_type": "code",
        "colab": {}
      },
      "cell_type": "code",
      "source": [
        "## Collecting and writing json response into a .jsonl file\n",
        "json = []\n",
        "\n",
        "for tweet in tweets.items():\n",
        "    json.append(tweet._json)\n",
        "\n",
        "with jsonlines.open('your_drive/Saaransh_Pandey.jsonl', 'w') as writer:\n",
        "    writer.write_all(json)\n",
        "\n"
      ],
      "execution_count": 0,
      "outputs": []
    },
    {
      "metadata": {
        "id": "THfkhMVxszUv",
        "colab_type": "code",
        "colab": {}
      },
      "cell_type": "code",
      "source": [
        "## Features asked in task to be extracted from the json \n",
        "## Some extra features can also be extracted (which are commented)\n",
        "\n",
        "tweets_text = []\n",
        "tweets_created_at = []\n",
        "tweets_favorites_count = []\n",
        "tweets_retweets_count = []\n",
        "tweets_images_count = []\n",
        "##is_retweeted = []\n",
        "##original_created_at = []\n",
        "##original_retweets_count = []\n",
        "##original_favorites_count = []\n",
        "for tweet in json:\n",
        "    images_count = 0\n",
        "    tweets_text.append(tweet['text'])\n",
        "    tweets_created_at.append(tweet['created_at'])\n",
        "    tweets_favorites_count.append(tweet['favorite_count'])\n",
        "    tweets_retweets_count.append(tweet['retweet_count'])\n",
        "\n",
        "##    if 'retweeted_status' in tweet:\n",
        "##        is_retweeted.append('Yes')\n",
        "##        retweeted_status = tweet['retweeted_status']\n",
        "##        original_created_at.append(retweeted_status['created_at'])\n",
        "##        original_retweets_count.append(retweeted_status['retweet_count'])\n",
        "##        original_favorites_count.append(retweeted_status['favorite_count'])\n",
        "##        \n",
        "##    else:\n",
        "##        is_retweeted.append('No')\n",
        "##        original_created_at.append(None)\n",
        "##        original_retweets_count.append(None)\n",
        "##        original_favorites_count.append(None)\n",
        "\n",
        "        \n",
        "    entities = tweet['entities']\n",
        "\n",
        "    for media in entities.get(\"media\",[{}]):\n",
        "        if media.get('type',None) == 'photo':\n",
        "            images_count+=1\n",
        "\n",
        "    if images_count == 0:\n",
        "        tweets_images_count.append(None)\n",
        "    else:\n",
        "        tweets_images_count.append(images_count)\n",
        "            \n",
        "\n",
        "\n"
      ],
      "execution_count": 0,
      "outputs": []
    },
    {
      "metadata": {
        "id": "RDKRzY7Vs8_I",
        "colab_type": "code",
        "colab": {}
      },
      "cell_type": "code",
      "source": [
        "## Storing values in pandas Dataframe\n",
        "\n",
        "field_names = ['Text','Date and Time', 'Favorites/Likes Count',\n",
        "                          'Retweets Count','Images Count']\n",
        "\n",
        "##field_names = ['Text','Date and Time', 'Favorites/Likes Count',\n",
        "##                          'Retweets Count','Images Count', 'Is Retweeted?',\n",
        "##               'Original Date&Time','Original Favorites Count',\n",
        "##               'Original Retweets Count']\n",
        "\n",
        "data = {'Text':tweets_text, 'Date and Time': tweets_created_at,\n",
        "        'Favorites/Likes Count': tweets_favorites_count,\n",
        "        'Retweets Count':tweets_retweets_count,\n",
        "        'Images Count':tweets_images_count}\n",
        "\n",
        "##data = {'Text':tweets_text, 'Date and Time': tweets_created_at,\n",
        "##        'Favorites/Likes Count': tweets_favorites_count,\n",
        "##        'Retweets Count':tweets_retweets_count,\n",
        "##        'Images Count':tweets_images_count,\n",
        "##        'Is Retweeted?':is_retweeted,\n",
        "##        'Original Date&Time':original_created_at,\n",
        "##        'Original Favorites Count':original_favorites_count,\n",
        "##        'Original Retweets Count':original_retweets_count}\n",
        "\n",
        "\n",
        "##pd.set_option('display.max_columns', 9)\n",
        "pd.set_option('display.max_columns', 5)\n",
        "df = pd.DataFrame(data, columns = field_names)\n",
        "##print(df)\n",
        "\n"
      ],
      "execution_count": 0,
      "outputs": []
    },
    {
      "metadata": {
        "id": "wfNg9hwmtmlO",
        "colab_type": "code",
        "colab": {}
      },
      "cell_type": "code",
      "source": [
        ""
      ],
      "execution_count": 0,
      "outputs": []
    }
  ]
}