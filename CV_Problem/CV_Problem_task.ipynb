{
  "nbformat": 4,
  "nbformat_minor": 0,
  "metadata": {
    "colab": {
      "name": "CV_Problem_task.ipynb",
      "version": "0.3.2",
      "provenance": [],
      "collapsed_sections": [],
      "include_colab_link": true
    },
    "kernelspec": {
      "name": "python3",
      "display_name": "Python 3"
    }
  },
  "cells": [
    {
      "cell_type": "markdown",
      "metadata": {
        "id": "view-in-github",
        "colab_type": "text"
      },
      "source": [
        "<a href=\"https://colab.research.google.com/github/saaransh13/MIDAS-IIITD-task/blob/master/CV_Problem/CV_Problem_task.ipynb\" target=\"_parent\"><img src=\"https://colab.research.google.com/assets/colab-badge.svg\" alt=\"Open In Colab\"/></a>"
      ]
    },
    {
      "metadata": {
        "id": "Si0vaqkTLZYw",
        "colab_type": "code",
        "colab": {
          "base_uri": "https://localhost:8080/",
          "height": 142
        },
        "outputId": "f12c912b-4207-4b3a-a47f-ca3a91f70c30"
      },
      "cell_type": "code",
      "source": [
        "import numpy as np\n",
        "from keras.datasets import mnist\n",
        "from keras.models import Sequential\n",
        "from keras.layers import Dense\n",
        "from keras.layers import Dropout, BatchNormalization\n",
        "from keras.layers import Flatten\n",
        "from keras.layers.convolutional import Conv2D\n",
        "from keras.layers.convolutional import MaxPooling2D\n",
        "from keras.utils import np_utils\n",
        "from keras import backend as K\n",
        "K.set_image_dim_ordering('th')\n",
        "from sklearn.model_selection import train_test_split\n",
        "import pickle\n",
        "import cv2\n",
        "import pandas as pd\n",
        "from google.colab import drive\n",
        "drive.mount('/content/drive')"
      ],
      "execution_count": 2,
      "outputs": [
        {
          "output_type": "stream",
          "text": [
            "Using TensorFlow backend.\n"
          ],
          "name": "stderr"
        },
        {
          "output_type": "stream",
          "text": [
            "Go to this URL in a browser: https://accounts.google.com/o/oauth2/auth?client_id=947318989803-6bn6qk8qdgf4n4g3pfee6491hc0brc4i.apps.googleusercontent.com&redirect_uri=urn%3Aietf%3Awg%3Aoauth%3A2.0%3Aoob&scope=email%20https%3A%2F%2Fwww.googleapis.com%2Fauth%2Fdocs.test%20https%3A%2F%2Fwww.googleapis.com%2Fauth%2Fdrive%20https%3A%2F%2Fwww.googleapis.com%2Fauth%2Fdrive.photos.readonly%20https%3A%2F%2Fwww.googleapis.com%2Fauth%2Fpeopleapi.readonly&response_type=code\n",
            "\n",
            "Enter your authorization code:\n",
            "··········\n",
            "Mounted at /content/drive\n"
          ],
          "name": "stdout"
        }
      ]
    },
    {
      "metadata": {
        "id": "8EIU4e19LtYA",
        "colab_type": "code",
        "colab": {}
      },
      "cell_type": "code",
      "source": [
        "## Reading .pkl files\n",
        "\n",
        "with open('your_drive/train_image.pkl', 'rb') as f: ## To be provided by the user\n",
        "    train_image = pickle.load(f)\n",
        "\n",
        "with open('your_drive/train_label.pkl', 'rb') as f: ## To be provided by the user\n",
        "    train_label = pickle.load(f)\n",
        "\n",
        "with open('your_drive/test_image.pkl', 'rb') as f: ## To be provided by the user\n",
        "    test_image = pickle.load(f)\n",
        "    "
      ],
      "execution_count": 0,
      "outputs": []
    },
    {
      "metadata": {
        "id": "5ci_rnGNL4Ew",
        "colab_type": "code",
        "colab": {}
      },
      "cell_type": "code",
      "source": [
        "## Reshaping the train/test-images to (1,28,28) shape\n",
        "\n",
        "for i,x in enumerate(train_image):\n",
        "    train_image[i] = np.asarray(train_image[i]).reshape(1,28,28)\n",
        "\n",
        "for i,x in enumerate(test_image):\n",
        "    test_image[i] = np.asarray(test_image[i]).reshape(1,28,28)\n",
        "\n",
        "train_image = np.array(train_image)\n",
        "test_image = np.array(test_image)\n"
      ],
      "execution_count": 0,
      "outputs": []
    },
    {
      "metadata": {
        "id": "4cwa_t7bStJw",
        "colab_type": "code",
        "colab": {}
      },
      "cell_type": "code",
      "source": [
        "## Preprocessing the training label.\n",
        "\n",
        "train_label = np.array(train_label)\n",
        "\n",
        "for i,x in enumerate(train_label):\n",
        "##    if x == 0:\n",
        "##        train_label[i] = 0\n",
        "    if x == 2:\n",
        "        train_label[i] = 1\n",
        "    elif x == 3:\n",
        "        train_label[i] = 2\n",
        "    elif x == 6:\n",
        "        train_label[i] = 3\n",
        "## 0 : 0 , 1 : 2, 2 : 3, 3 : 6 -- changing class value for OHE (One Hot Encoding)\n",
        "\n",
        "train_label = np_utils.to_categorical(train_label, 4) # Array to OHE\n"
      ],
      "execution_count": 0,
      "outputs": []
    },
    {
      "metadata": {
        "id": "YJBB8iqlTNE1",
        "colab_type": "code",
        "colab": {}
      },
      "cell_type": "code",
      "source": [
        "## Splitting the data into train & validation data.\n",
        "\n",
        "X_train, X_val, Y_train, Y_val = train_test_split(train_image, train_label, test_size=0.30)\n"
      ],
      "execution_count": 0,
      "outputs": []
    },
    {
      "metadata": {
        "id": "oY_LyUFVTh-I",
        "colab_type": "code",
        "colab": {}
      },
      "cell_type": "code",
      "source": [
        "## CNN model. \n",
        "\n",
        "model = Sequential()\n",
        "model.add(Conv2D(32, kernel_size = (3, 3), activation='relu', input_shape=(1,28,28)))\n",
        "model.add(Conv2D(32, kernel_size=(3,3), activation='relu'))\n",
        "model.add(MaxPooling2D(pool_size=(2,2)))\n",
        "model.add(Conv2D(64, kernel_size=(3,3), activation='relu'))\n",
        "#model.add(Conv2D(64, kernel_size=(3,3), activation='relu'))\n",
        "model.add(MaxPooling2D(pool_size=(2,2)))\n",
        "model.add(BatchNormalization())\n",
        "model.add(Dropout(0.2))\n",
        "model.add(Flatten())\n",
        "model.add(Dense(128, activation='relu'))\n",
        "model.add(Dense(4, activation = 'softmax'))\n"
      ],
      "execution_count": 0,
      "outputs": []
    },
    {
      "metadata": {
        "id": "MyKnuFtJTsH3",
        "colab_type": "code",
        "colab": {}
      },
      "cell_type": "code",
      "source": [
        "## Compiling the model\n",
        "\n",
        "model.compile(loss='categorical_crossentropy',\n",
        "              optimizer='adam',\n",
        "              metrics=['accuracy'])"
      ],
      "execution_count": 0,
      "outputs": []
    },
    {
      "metadata": {
        "id": "_5PbHFhfT4Nr",
        "colab_type": "code",
        "colab": {
          "base_uri": "https://localhost:8080/",
          "height": 1266
        },
        "outputId": "1718a130-a33a-405e-bdb8-aed5bf82be7b"
      },
      "cell_type": "code",
      "source": [
        "## Training the model \n",
        "\n",
        "model.fit(X_train, Y_train, \n",
        "          batch_size=32, epochs=35, verbose=1)"
      ],
      "execution_count": 45,
      "outputs": [
        {
          "output_type": "stream",
          "text": [
            "Epoch 1/35\n",
            "5600/5600 [==============================] - 18s 3ms/step - loss: 0.7212 - acc: 0.7059\n",
            "Epoch 2/35\n",
            "5600/5600 [==============================] - 17s 3ms/step - loss: 0.4728 - acc: 0.8077\n",
            "Epoch 3/35\n",
            "5600/5600 [==============================] - 16s 3ms/step - loss: 0.4106 - acc: 0.8291\n",
            "Epoch 4/35\n",
            "5600/5600 [==============================] - 16s 3ms/step - loss: 0.3493 - acc: 0.8523\n",
            "Epoch 5/35\n",
            "5600/5600 [==============================] - 16s 3ms/step - loss: 0.2997 - acc: 0.8768\n",
            "Epoch 6/35\n",
            "5600/5600 [==============================] - 17s 3ms/step - loss: 0.2641 - acc: 0.8938\n",
            "Epoch 7/35\n",
            "5600/5600 [==============================] - 16s 3ms/step - loss: 0.2319 - acc: 0.9111\n",
            "Epoch 8/35\n",
            "5600/5600 [==============================] - 16s 3ms/step - loss: 0.2102 - acc: 0.9141\n",
            "Epoch 9/35\n",
            "5600/5600 [==============================] - 16s 3ms/step - loss: 0.1728 - acc: 0.9320\n",
            "Epoch 10/35\n",
            "5600/5600 [==============================] - 16s 3ms/step - loss: 0.1440 - acc: 0.9452\n",
            "Epoch 11/35\n",
            "5600/5600 [==============================] - 16s 3ms/step - loss: 0.1220 - acc: 0.9529\n",
            "Epoch 12/35\n",
            "5600/5600 [==============================] - 16s 3ms/step - loss: 0.1140 - acc: 0.9566\n",
            "Epoch 13/35\n",
            "5600/5600 [==============================] - 16s 3ms/step - loss: 0.0940 - acc: 0.9634\n",
            "Epoch 14/35\n",
            "5600/5600 [==============================] - 16s 3ms/step - loss: 0.0814 - acc: 0.9688\n",
            "Epoch 15/35\n",
            "5600/5600 [==============================] - 16s 3ms/step - loss: 0.0715 - acc: 0.9743\n",
            "Epoch 16/35\n",
            "5600/5600 [==============================] - 16s 3ms/step - loss: 0.0798 - acc: 0.9686\n",
            "Epoch 17/35\n",
            "5600/5600 [==============================] - 16s 3ms/step - loss: 0.0779 - acc: 0.9693\n",
            "Epoch 18/35\n",
            "5600/5600 [==============================] - 16s 3ms/step - loss: 0.0533 - acc: 0.9820\n",
            "Epoch 19/35\n",
            "5600/5600 [==============================] - 16s 3ms/step - loss: 0.0524 - acc: 0.9811\n",
            "Epoch 20/35\n",
            "5600/5600 [==============================] - 16s 3ms/step - loss: 0.0439 - acc: 0.9852\n",
            "Epoch 21/35\n",
            "5600/5600 [==============================] - 17s 3ms/step - loss: 0.0471 - acc: 0.9836\n",
            "Epoch 22/35\n",
            "5600/5600 [==============================] - 16s 3ms/step - loss: 0.0486 - acc: 0.9834\n",
            "Epoch 23/35\n",
            "5600/5600 [==============================] - 16s 3ms/step - loss: 0.0583 - acc: 0.9795\n",
            "Epoch 24/35\n",
            "5600/5600 [==============================] - 16s 3ms/step - loss: 0.0604 - acc: 0.9786\n",
            "Epoch 25/35\n",
            "5600/5600 [==============================] - 17s 3ms/step - loss: 0.0563 - acc: 0.9811\n",
            "Epoch 26/35\n",
            "5600/5600 [==============================] - 16s 3ms/step - loss: 0.0236 - acc: 0.9920\n",
            "Epoch 27/35\n",
            "5600/5600 [==============================] - 16s 3ms/step - loss: 0.0271 - acc: 0.9900\n",
            "Epoch 28/35\n",
            "5600/5600 [==============================] - 16s 3ms/step - loss: 0.0483 - acc: 0.9837\n",
            "Epoch 29/35\n",
            "5600/5600 [==============================] - 16s 3ms/step - loss: 0.0287 - acc: 0.9898\n",
            "Epoch 30/35\n",
            "5600/5600 [==============================] - 16s 3ms/step - loss: 0.0218 - acc: 0.9930\n",
            "Epoch 31/35\n",
            "5600/5600 [==============================] - 16s 3ms/step - loss: 0.0156 - acc: 0.9943\n",
            "Epoch 32/35\n",
            "5600/5600 [==============================] - 16s 3ms/step - loss: 0.0111 - acc: 0.9970\n",
            "Epoch 33/35\n",
            "5600/5600 [==============================] - 16s 3ms/step - loss: 0.0348 - acc: 0.9873\n",
            "Epoch 34/35\n",
            "5600/5600 [==============================] - 16s 3ms/step - loss: 0.0452 - acc: 0.9832\n",
            "Epoch 35/35\n",
            "5600/5600 [==============================] - 16s 3ms/step - loss: 0.0436 - acc: 0.9848\n"
          ],
          "name": "stdout"
        },
        {
          "output_type": "execute_result",
          "data": {
            "text/plain": [
              "<keras.callbacks.History at 0x7fd94b0c23c8>"
            ]
          },
          "metadata": {
            "tags": []
          },
          "execution_count": 45
        }
      ]
    },
    {
      "metadata": {
        "id": "jpfwoK5IT7gV",
        "colab_type": "code",
        "colab": {
          "base_uri": "https://localhost:8080/",
          "height": 52
        },
        "outputId": "db352440-3597-4470-e358-d4242952d856"
      },
      "cell_type": "code",
      "source": [
        "## Evaluating the data on val-dataset\n",
        "\n",
        "score = model.evaluate(X_val, Y_val, verbose=1)\n",
        "\n",
        "print(score)\n"
      ],
      "execution_count": 46,
      "outputs": [
        {
          "output_type": "stream",
          "text": [
            "2400/2400 [==============================] - 3s 1ms/step\n",
            "[0.7151526321967443, 0.8725]\n"
          ],
          "name": "stdout"
        }
      ]
    },
    {
      "metadata": {
        "id": "8Ghk7PHpU0OY",
        "colab_type": "code",
        "colab": {
          "base_uri": "https://localhost:8080/",
          "height": 34
        },
        "outputId": "a519d6bd-3366-451e-ab9a-60e5bbbc77d2"
      },
      "cell_type": "code",
      "source": [
        "## Making prediction on the training-dataset\n",
        "\n",
        "Y_test = model.predict(test_image, verbose=1)\n"
      ],
      "execution_count": 47,
      "outputs": [
        {
          "output_type": "stream",
          "text": [
            "2000/2000 [==============================] - 3s 1ms/step\n"
          ],
          "name": "stdout"
        }
      ]
    },
    {
      "metadata": {
        "id": "qwzlGjocU138",
        "colab_type": "code",
        "colab": {}
      },
      "cell_type": "code",
      "source": [
        "## Converting OHE to Array\n",
        "\n",
        "final_y_pred = []\n",
        "for i,x in enumerate(Y_test):\n",
        "    final_y_pred.append(np.argmax(Y_test[i]))\n"
      ],
      "execution_count": 0,
      "outputs": []
    },
    {
      "metadata": {
        "id": "9snKYY4tU5g-",
        "colab_type": "code",
        "colab": {}
      },
      "cell_type": "code",
      "source": [
        "\n",
        "## Setting back the original values of the classes\n",
        "\n",
        "for i,x in enumerate(final_y_pred):\n",
        "    if x == 1:\n",
        "        final_y_pred[i] = 2\n",
        "    elif x == 2:\n",
        "        final_y_pred[i] = 3\n",
        "    elif x == 3:\n",
        "        final_y_pred[i] = 6\n",
        "## 0 : 0 , 1 : 2, 2 : 3, 3 : 6  \n"
      ],
      "execution_count": 0,
      "outputs": []
    },
    {
      "metadata": {
        "id": "hji1b50EVHnn",
        "colab_type": "code",
        "colab": {}
      },
      "cell_type": "code",
      "source": [
        "## Saving the final solution.csv file\n",
        "raw_data = {'class':final_y_pred}\n",
        "df = pd.DataFrame(raw_data, columns = ['class'])\n",
        "df.index.name = 'image_index'\n",
        "df.to_csv('your_drive/Saaransh_Pandey.csv')  ## To be provided by the user "
      ],
      "execution_count": 0,
      "outputs": []
    },
    {
      "metadata": {
        "id": "Bsfjw97BVJsG",
        "colab_type": "code",
        "colab": {}
      },
      "cell_type": "code",
      "source": [
        ""
      ],
      "execution_count": 0,
      "outputs": []
    }
  ]
}